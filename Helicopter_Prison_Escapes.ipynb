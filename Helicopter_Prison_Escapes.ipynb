{
 "cells": [
  {
   "cell_type": "markdown",
   "id": "85a83ce0",
   "metadata": {},
   "source": [
    "# List of Helicopter Prison Escapes"
   ]
  },
  {
   "cell_type": "markdown",
   "id": "b73f9125",
   "metadata": {},
   "source": [
    "## Import Helper Functions"
   ]
  },
  {
   "cell_type": "markdown",
   "id": "bb4af078",
   "metadata": {},
   "source": [
    "To start, we will import helper functions from our python script."
   ]
  },
  {
   "cell_type": "code",
   "execution_count": 1,
   "id": "8393b4fa",
   "metadata": {},
   "outputs": [],
   "source": [
    "from helper import *"
   ]
  },
  {
   "cell_type": "markdown",
   "id": "778545ab",
   "metadata": {},
   "source": [
    "## Obtaining Data from Source"
   ]
  },
  {
   "cell_type": "markdown",
   "id": "d0935b72",
   "metadata": {},
   "source": [
    "The data is collected from the [List of helicopter prison escapes](https://en.wikipedia.org/wiki/List_of_helicopter_prison_escapes) Wikipedia article."
   ]
  },
  {
   "cell_type": "code",
   "execution_count": 8,
   "id": "144128ae",
   "metadata": {},
   "outputs": [],
   "source": [
    "url = \"https://en.wikipedia.org/wiki/List_of_helicopter_prison_escapes\"\n",
    "data = data_from_url(url)"
   ]
  },
  {
   "cell_type": "markdown",
   "id": "193163b6",
   "metadata": {},
   "source": [
    "The first three rows of the data is displayed after the code below."
   ]
  },
  {
   "cell_type": "markdown",
   "id": "daa1f10f",
   "metadata": {},
   "source": [
    "From the Wikipedia article, we can determine that the header for the data is in the form of:"
   ]
  },
  {
   "cell_type": "markdown",
   "id": "d80daf0b",
   "metadata": {},
   "source": [
    "| Date | Prison name | Country | Succeeded | Escapee(s) | Details |\n",
    "|:--------:|:--------:|:--------:|:--------:|:--------:|:--------:|"
   ]
  },
  {
   "cell_type": "code",
   "execution_count": 9,
   "id": "d864182e",
   "metadata": {},
   "outputs": [
    {
     "name": "stdout",
     "output_type": "stream",
     "text": [
      "['August 19, 1971', 'Santa Martha Acatitla', 'Mexico', 'Yes', 'Joel David Kaplan Carlos Antonio Contreras Castro', \"Joel David Kaplan was a New York businessman who had been arrested for murder in 1962 in Mexico City and was incarcerated at the Santa Martha Acatitla prison in the Iztapalapa borough of Mexico City. Joel's sister, Judy Kaplan, arranged the means to help Kaplan escape, and on August 19, 1971, a helicopter landed in the prison yard. The guards mistakenly thought this was an official visit. In two minutes, Kaplan and his cellmate Carlos Antonio Contreras, a Venezuelan counterfeiter, were able to board the craft and were piloted away, before any shots were fired.[9] Both men were flown to Texas and then different planes flew Kaplan to California and Contreras to Guatemala.[3] The Mexican government never initiated extradition proceedings against Kaplan.[9] The escape is told in a book, The 10-Second Jailbreak: The Helicopter Escape of Joel David Kaplan.[4] It also inspired the 1975 action movie Breakout, which starred Charles Bronson and Robert Duvall.[9]\"]\n",
      "['October 31, 1973', 'Mountjoy Jail', 'Ireland', 'Yes', \"JB O'Hagan Seamus TwomeyKevin Mallon\", 'On October 31, 1973, an IRA member hijacked a helicopter and forced the pilot to land in the exercise yard of Dublin\\'s Mountjoy Jail\\'s D Wing at 3:40\\xa0p.m. Three members of the IRA were able to escape: JB O\\'Hagan, Seamus Twomey and Kevin Mallon. Another prisoner who also was in the prison was quoted as saying, \"One shamefaced screw apologised to the governor and said he thought it was the new Minister for Defence (Paddy Donegan) arriving. I told him it was our Minister of Defence leaving.\" The Mountjoy helicopter escape became Republican lore and was immortalized by \"The Helicopter Song\", which contains the lines \"It\\'s up like a bird and over the city. There\\'s three men a\\'missing I heard the warder say\".[1]']\n",
      "['May 24, 1978', 'United States Penitentiary, Marion', 'United States', 'No', 'Garrett Brock TrapnellMartin Joseph McNallyJames Kenneth Johnson', \"43-year-old Barbara Ann Oswald hijacked a Saint Louis-based charter helicopter and forced the pilot to land in the yard at USP Marion. While landing the aircraft, the pilot, Allen Barklage, who was a Vietnam War veteran, struggled with Oswald and managed to wrestle the gun away from her. Barklage then shot and killed Oswald, thwarting the escape.[10] A few months later Oswald's daughter hijacked TWA Flight 541 in an effort to free Trapnell.\"]\n"
     ]
    }
   ],
   "source": [
    "for row in data[:3]:\n",
    "    print(row)"
   ]
  },
  {
   "cell_type": "markdown",
   "id": "175b51fd",
   "metadata": {},
   "source": [
    "As can be seen, the output of only three escapes is already quite lengthy. To make the output more convenient to inspect, we can remove the details column as it forms the majority of the displayed output."
   ]
  },
  {
   "cell_type": "markdown",
   "id": "8a11078e",
   "metadata": {},
   "source": [
    "## Removing \"Details\" Column"
   ]
  },
  {
   "cell_type": "code",
   "execution_count": 10,
   "id": "9fb34080",
   "metadata": {},
   "outputs": [],
   "source": [
    "index = 0\n",
    "\n",
    "for row in data:\n",
    "    \n",
    "    data[index] = row[:-1]\n",
    "    index += 1"
   ]
  },
  {
   "cell_type": "code",
   "execution_count": 11,
   "id": "fe59a143",
   "metadata": {},
   "outputs": [
    {
     "name": "stdout",
     "output_type": "stream",
     "text": [
      "[['August 19, 1971', 'Santa Martha Acatitla', 'Mexico', 'Yes', 'Joel David Kaplan Carlos Antonio Contreras Castro'], ['October 31, 1973', 'Mountjoy Jail', 'Ireland', 'Yes', \"JB O'Hagan Seamus TwomeyKevin Mallon\"], ['May 24, 1978', 'United States Penitentiary, Marion', 'United States', 'No', 'Garrett Brock TrapnellMartin Joseph McNallyJames Kenneth Johnson'], ['February 27, 1981', 'Fleury-Mérogis, Essonne, Ile de France', 'France', 'Yes', 'Gérard DupréDaniel Beaumont'], ['May 7, 1981', 'Orsainville Prison, Quebec City', 'Canada', 'No', 'Marina Paquet (hijacker)Giles Arseneault (prisoner)']]\n"
     ]
    }
   ],
   "source": [
    "print(data[:5])"
   ]
  },
  {
   "cell_type": "code",
   "execution_count": null,
   "id": "882fb9f1",
   "metadata": {},
   "outputs": [],
   "source": []
  }
 ],
 "metadata": {
  "kernelspec": {
   "display_name": "Python 3 (ipykernel)",
   "language": "python",
   "name": "python3"
  },
  "language_info": {
   "codemirror_mode": {
    "name": "ipython",
    "version": 3
   },
   "file_extension": ".py",
   "mimetype": "text/x-python",
   "name": "python",
   "nbconvert_exporter": "python",
   "pygments_lexer": "ipython3",
   "version": "3.9.16"
  }
 },
 "nbformat": 4,
 "nbformat_minor": 5
}
