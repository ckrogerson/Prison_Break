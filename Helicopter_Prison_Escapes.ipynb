{
 "cells": [
  {
   "cell_type": "markdown",
   "id": "c7b0d86c",
   "metadata": {},
   "source": [
    "# List of Helicopter Prison Escapes"
   ]
  },
  {
   "cell_type": "markdown",
   "id": "1a23e72a",
   "metadata": {},
   "source": [
    "To start, we will import helper functions from a python script"
   ]
  },
  {
   "cell_type": "code",
   "execution_count": 1,
   "id": "06090f6d",
   "metadata": {},
   "outputs": [],
   "source": [
    "from helper import *"
   ]
  },
  {
   "cell_type": "code",
   "execution_count": null,
   "id": "fb9e241a",
   "metadata": {},
   "outputs": [],
   "source": []
  }
 ],
 "metadata": {
  "kernelspec": {
   "display_name": "Python 3 (ipykernel)",
   "language": "python",
   "name": "python3"
  },
  "language_info": {
   "codemirror_mode": {
    "name": "ipython",
    "version": 3
   },
   "file_extension": ".py",
   "mimetype": "text/x-python",
   "name": "python",
   "nbconvert_exporter": "python",
   "pygments_lexer": "ipython3",
   "version": "3.9.16"
  }
 },
 "nbformat": 4,
 "nbformat_minor": 5
}
